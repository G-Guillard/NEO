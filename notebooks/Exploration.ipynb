{
 "cells": [
  {
   "cell_type": "code",
   "execution_count": 1,
   "metadata": {},
   "outputs": [],
   "source": [
    "from pymongo import MongoClient"
   ]
  },
  {
   "cell_type": "code",
   "execution_count": 3,
   "metadata": {},
   "outputs": [],
   "source": [
    "client = MongoClient('db', 27017)\n",
    "coll = client.nasadb.neo"
   ]
  },
  {
   "cell_type": "code",
   "execution_count": 4,
   "metadata": {},
   "outputs": [
    {
     "data": {
      "text/plain": [
       "{'_id': ObjectId('5e1c5241ef061e1438ffd608'),\n",
       " 'Neo Reference ID': 3723955,\n",
       " 'Name': 3723955,\n",
       " 'Absolute Magnitude': 21.3,\n",
       " 'Est Dia in KM(min)': 0.1460679643,\n",
       " 'Est Dia in KM(max)': 0.3266178974,\n",
       " 'Est Dia in M(min)': 146.0679642714,\n",
       " 'Est Dia in M(max)': 326.6178974458,\n",
       " 'Est Dia in Miles(min)': 0.090762397,\n",
       " 'Est Dia in Miles(max)': 0.2029508896,\n",
       " 'Est Dia in Feet(min)': 479.2256199,\n",
       " 'Est Dia in Feet(max)': 1071.581062656,\n",
       " 'Close Approach Date': '1995-01-01',\n",
       " 'Epoch Date Close Approach': 788947200000,\n",
       " 'Relative Velocity km per sec': 18.1139850263,\n",
       " 'Relative Velocity km per hr': 65210.3460948409,\n",
       " 'Miles per hour': 40519.1731054305,\n",
       " 'Miss Dist': {'(Astronomical)': 0.3830144627,\n",
       "  '(lunar)': 148.9926300049,\n",
       "  '(kilometers)': 57298148,\n",
       "  '(miles)': 35603420},\n",
       " 'Orbiting Body': 'Earth',\n",
       " 'Orbit ID': 21,\n",
       " 'Orbit Determination Date': '2017-04-06 08:32:49',\n",
       " 'Orbit Uncertainity': 3,\n",
       " 'Minimum Orbit Intersection': 0.186935,\n",
       " 'Jupiter Tisserand Invariant': 5.457,\n",
       " 'Epoch Osculation': 2458000.5,\n",
       " 'Eccentricity': 0.3516743045868617,\n",
       " 'Semi Major Axis': 1.10777595443772,\n",
       " 'Inclination': 28.41299637199041,\n",
       " 'Asc Node Longitude': 136.7172416568082,\n",
       " 'Orbital Period': 425.8692942066788,\n",
       " 'Perihelion Distance': 0.7181996160227876,\n",
       " 'Perihelion Arg': 313.0919748302692,\n",
       " 'Aphelion Dist': 1.497352292852652,\n",
       " 'Perihelion Time': 2457794.969431285,\n",
       " 'Mean Anomaly': 173.7411119891742,\n",
       " 'Mean Motion': 0.8453297875598617,\n",
       " 'Equinox': 'J2000',\n",
       " 'Hazardous': 'False'}"
      ]
     },
     "execution_count": 4,
     "metadata": {},
     "output_type": "execute_result"
    }
   ],
   "source": [
    "coll.find_one()"
   ]
  },
  {
   "cell_type": "code",
   "execution_count": null,
   "metadata": {},
   "outputs": [],
   "source": []
  }
 ],
 "metadata": {
  "kernelspec": {
   "display_name": "Python 3",
   "language": "python",
   "name": "python3"
  },
  "language_info": {
   "codemirror_mode": {
    "name": "ipython",
    "version": 3
   },
   "file_extension": ".py",
   "mimetype": "text/x-python",
   "name": "python",
   "nbconvert_exporter": "python",
   "pygments_lexer": "ipython3",
   "version": "3.7.3"
  }
 },
 "nbformat": 4,
 "nbformat_minor": 2
}
